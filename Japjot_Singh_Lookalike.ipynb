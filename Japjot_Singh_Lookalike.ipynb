{
  "nbformat": 4,
  "nbformat_minor": 0,
  "metadata": {
    "colab": {
      "provenance": []
    },
    "kernelspec": {
      "name": "python3",
      "display_name": "Python 3"
    },
    "language_info": {
      "name": "python"
    }
  },
  "cells": [
    {
      "cell_type": "code",
      "source": [
        "import pandas as pd\n",
        "customers = pd.read_csv(\"/content/Customers.csv\")\n",
        "products = pd.read_csv(\"/content/Products.csv\")\n",
        "transactions = pd.read_csv(\"/content/Transactions.csv\")\n"
      ],
      "metadata": {
        "id": "KBXtwzIZMQHG"
      },
      "execution_count": 1,
      "outputs": []
    },
    {
      "cell_type": "code",
      "source": [
        "customers['SignupDate'] = pd.to_datetime(customers['SignupDate'])\n",
        "transactions['TransactionDate'] = pd.to_datetime(transactions['TransactionDate'])"
      ],
      "metadata": {
        "id": "8afiM8hcghKD"
      },
      "execution_count": 2,
      "outputs": []
    },
    {
      "cell_type": "code",
      "source": [
        "# Merge transactions with customer data\n",
        "transactions_customers = transactions.merge(customers, on='CustomerID')\n",
        "# Merge with product data\n",
        "full_data = transactions_customers.merge(products, on='ProductID')\n"
      ],
      "metadata": {
        "id": "C6wxOd32i-MN"
      },
      "execution_count": 7,
      "outputs": []
    },
    {
      "cell_type": "code",
      "source": [
        "# how much a customer spends overall.High spenders might have similar spending patterns.\n",
        "total_value = transactions.groupby('CustomerID')['TotalValue'].sum().reset_index()\n",
        "total_value.rename(columns={'TotalValue': 'TotalTransactionValue'}, inplace=True)"
      ],
      "metadata": {
        "id": "poYJNmYtgl4v"
      },
      "execution_count": 8,
      "outputs": []
    },
    {
      "cell_type": "code",
      "source": [
        "# how much a customer spends per purchase.Customers with similar spending levels may have similar buying habits.\n",
        "avg_value = transactions.groupby('CustomerID')['TotalValue'].mean().reset_index()\n",
        "avg_value.rename(columns={'TotalValue': 'AvgTransactionValue'}, inplace=True)\n"
      ],
      "metadata": {
        "id": "LuSK3ZTViK2X"
      },
      "execution_count": 9,
      "outputs": []
    },
    {
      "cell_type": "code",
      "source": [
        "# how much a customer buys in terms of volume. Bulk buyers may share similar preferences.\n",
        "total_quantity = transactions.groupby('CustomerID')['Quantity'].sum().reset_index()\n",
        "total_quantity.rename(columns={'Quantity': 'TotalQuantity'}, inplace=True)\n"
      ],
      "metadata": {
        "id": "rZyM3I1Eibxv"
      },
      "execution_count": 10,
      "outputs": []
    },
    {
      "cell_type": "code",
      "source": [
        "# Frequency count - customers prefer specific product categories\n",
        "product_category_counts = full_data.groupby(['CustomerID', 'Category']).size().unstack(fill_value=0)\n"
      ],
      "metadata": {
        "id": "BZCPKUNkinNC"
      },
      "execution_count": 11,
      "outputs": []
    },
    {
      "cell_type": "code",
      "source": [
        "#frequency count - customer’s favorite product\n",
        "most_frequent_product = full_data.groupby('CustomerID')['ProductID'].agg(\n",
        "    lambda x: x.value_counts().idxmax()).reset_index()\n",
        "most_frequent_product.rename(columns={'ProductID': 'MostFrequentProduct'}, inplace=True)\n"
      ],
      "metadata": {
        "id": "h94Q0Epfi53D"
      },
      "execution_count": 13,
      "outputs": []
    },
    {
      "cell_type": "code",
      "source": [
        "# purchase behaviour region wise\n",
        "region_encoded = pd.get_dummies(customers[['CustomerID', 'Region']], columns=['Region'])\n"
      ],
      "metadata": {
        "id": "ChnKm4vAjL4d"
      },
      "execution_count": 14,
      "outputs": []
    },
    {
      "cell_type": "code",
      "source": [
        "from datetime import datetime\n",
        "\n",
        "customers['SignupDate'] = pd.to_datetime(customers['SignupDate'])\n",
        "customers['SignupDuration'] = (datetime.now() - customers['SignupDate']).dt.days\n"
      ],
      "metadata": {
        "id": "ptVSfuHRkwxH"
      },
      "execution_count": 16,
      "outputs": []
    },
    {
      "cell_type": "code",
      "source": [
        "# Merge features with the customer base\n",
        "customer_features = customers[['CustomerID']]\n",
        "customer_features = customer_features.merge(total_value, on='CustomerID', how='left')\n",
        "customer_features = customer_features.merge(avg_value, on='CustomerID', how='left')\n",
        "customer_features = customer_features.merge(total_quantity, on='CustomerID', how='left')\n",
        "customer_features = customer_features.merge(product_category_counts, on='CustomerID', how='left')\n",
        "customer_features = customer_features.merge(region_encoded, on='CustomerID', how='left')\n",
        "customer_features = customer_features.merge(most_frequent_product, on='CustomerID', how='left')\n",
        "customer_features = customer_features.merge(customers[['CustomerID', 'SignupDuration']], on='CustomerID', how='left')\n"
      ],
      "metadata": {
        "id": "k5STF7AUkT6K"
      },
      "execution_count": 17,
      "outputs": []
    },
    {
      "cell_type": "code",
      "source": [
        "# Check for missing values in the normalized data\n",
        "import pandas as pd\n",
        "\n",
        "# If `normalized_features` is a DataFrame, check for NaNs\n",
        "pd.DataFrame(normalized_features).isna().sum()\n"
      ],
      "metadata": {
        "colab": {
          "base_uri": "https://localhost:8080/",
          "height": 460
        },
        "id": "ptbyQ2dBo1zR",
        "outputId": "24dc882d-78da-41e5-820a-07c9e3edee5b"
      },
      "execution_count": 27,
      "outputs": [
        {
          "output_type": "execute_result",
          "data": {
            "text/plain": [
              "0     0\n",
              "1     0\n",
              "2     0\n",
              "3     0\n",
              "4     0\n",
              "5     0\n",
              "6     0\n",
              "7     0\n",
              "8     0\n",
              "9     0\n",
              "10    0\n",
              "11    0\n",
              "dtype: int64"
            ],
            "text/html": [
              "<div>\n",
              "<style scoped>\n",
              "    .dataframe tbody tr th:only-of-type {\n",
              "        vertical-align: middle;\n",
              "    }\n",
              "\n",
              "    .dataframe tbody tr th {\n",
              "        vertical-align: top;\n",
              "    }\n",
              "\n",
              "    .dataframe thead th {\n",
              "        text-align: right;\n",
              "    }\n",
              "</style>\n",
              "<table border=\"1\" class=\"dataframe\">\n",
              "  <thead>\n",
              "    <tr style=\"text-align: right;\">\n",
              "      <th></th>\n",
              "      <th>0</th>\n",
              "    </tr>\n",
              "  </thead>\n",
              "  <tbody>\n",
              "    <tr>\n",
              "      <th>0</th>\n",
              "      <td>0</td>\n",
              "    </tr>\n",
              "    <tr>\n",
              "      <th>1</th>\n",
              "      <td>0</td>\n",
              "    </tr>\n",
              "    <tr>\n",
              "      <th>2</th>\n",
              "      <td>0</td>\n",
              "    </tr>\n",
              "    <tr>\n",
              "      <th>3</th>\n",
              "      <td>0</td>\n",
              "    </tr>\n",
              "    <tr>\n",
              "      <th>4</th>\n",
              "      <td>0</td>\n",
              "    </tr>\n",
              "    <tr>\n",
              "      <th>5</th>\n",
              "      <td>0</td>\n",
              "    </tr>\n",
              "    <tr>\n",
              "      <th>6</th>\n",
              "      <td>0</td>\n",
              "    </tr>\n",
              "    <tr>\n",
              "      <th>7</th>\n",
              "      <td>0</td>\n",
              "    </tr>\n",
              "    <tr>\n",
              "      <th>8</th>\n",
              "      <td>0</td>\n",
              "    </tr>\n",
              "    <tr>\n",
              "      <th>9</th>\n",
              "      <td>0</td>\n",
              "    </tr>\n",
              "    <tr>\n",
              "      <th>10</th>\n",
              "      <td>0</td>\n",
              "    </tr>\n",
              "    <tr>\n",
              "      <th>11</th>\n",
              "      <td>0</td>\n",
              "    </tr>\n",
              "  </tbody>\n",
              "</table>\n",
              "</div><br><label><b>dtype:</b> int64</label>"
            ]
          },
          "metadata": {},
          "execution_count": 27
        }
      ]
    },
    {
      "cell_type": "code",
      "source": [
        "from sklearn.impute import SimpleImputer\n",
        "\n",
        "imputer = SimpleImputer(strategy='mean')  # Or 'median'\n",
        "normalized_features = imputer.fit_transform(normalized_features)\n"
      ],
      "metadata": {
        "id": "28JjP0D8mF5F"
      },
      "execution_count": 28,
      "outputs": []
    },
    {
      "cell_type": "code",
      "source": [
        "import numpy as np\n",
        "normalized_features = normalized_features[~np.isnan(normalized_features).any(axis=1)]\n"
      ],
      "metadata": {
        "id": "qOvXhhcspb-w"
      },
      "execution_count": 30,
      "outputs": []
    },
    {
      "cell_type": "code",
      "source": [
        "from sklearn.metrics.pairwise import cosine_similarity\n",
        "\n",
        "# Compute pairwise similarity\n",
        "similarity_matrix = cosine_similarity(normalized_features)\n",
        "print(similarity_matrix)\n"
      ],
      "metadata": {
        "colab": {
          "base_uri": "https://localhost:8080/"
        },
        "id": "9-Fz91c_pd62",
        "outputId": "a564aa30-bceb-44b3-b5c3-d13acd93faf1"
      },
      "execution_count": 32,
      "outputs": [
        {
          "output_type": "stream",
          "name": "stdout",
          "text": [
            "[[ 1.         -0.16395168  0.35056588 ...  0.10238373  0.21426112\n",
            "  -0.31506074]\n",
            " [-0.16395168  1.         -0.0104745  ...  0.36199634  0.17873118\n",
            "   0.40426495]\n",
            " [ 0.35056588 -0.0104745   1.         ... -0.15410117  0.03132575\n",
            "  -0.21869966]\n",
            " ...\n",
            " [ 0.10238373  0.36199634 -0.15410117 ...  1.          0.73084274\n",
            "  -0.32467597]\n",
            " [ 0.21426112  0.17873118  0.03132575 ...  0.73084274  1.\n",
            "  -0.44303295]\n",
            " [-0.31506074  0.40426495 -0.21869966 ... -0.32467597 -0.44303295\n",
            "   1.        ]]\n"
          ]
        }
      ]
    },
    {
      "cell_type": "code",
      "source": [
        "lookalikes = {}\n",
        "\n",
        "for i, customer_id in enumerate(customers['CustomerID']):\n",
        "    # similarity scores for customer\n",
        "    scores = similarity_matrix[i]\n",
        "\n",
        "    # Get indices of top 3 most similar customers (excluding the current customer)\n",
        "    similar_indices = scores.argsort()[-4:-1][::-1]  # Top 3 excluding self\n",
        "    similar_customers = [\n",
        "        (customers.iloc[idx]['CustomerID'], scores[idx]) for idx in similar_indices\n",
        "    ]\n",
        "\n",
        "    # Store in the lookalikes dictionary\n",
        "    lookalikes[customer_id] = similar_customers\n"
      ],
      "metadata": {
        "id": "WjLn1Q9tppBH"
      },
      "execution_count": 33,
      "outputs": []
    },
    {
      "cell_type": "code",
      "source": [
        "lookalike_data = []\n",
        "\n",
        "for customer_id, similar_list in lookalikes.items():\n",
        "    for similar_id, score in similar_list:\n",
        "        lookalike_data.append({'cust_id': customer_id, 'similar_cust_id': similar_id, 'score': score})\n",
        "\n",
        "# Save as Lookalike as csv\n",
        "lookalike_df = pd.DataFrame(lookalike_data)\n",
        "lookalike_df.to_csv('Lookalike.csv', index=False)\n"
      ],
      "metadata": {
        "id": "zVljIO2Hqju5"
      },
      "execution_count": 34,
      "outputs": []
    },
    {
      "cell_type": "code",
      "source": [],
      "metadata": {
        "id": "f47J84IDqyek"
      },
      "execution_count": null,
      "outputs": []
    }
  ]
}